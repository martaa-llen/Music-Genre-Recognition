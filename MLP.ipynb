{
 "cells": [
  {
   "attachments": {},
   "cell_type": "markdown",
   "metadata": {},
   "source": [
    "# MultiLayer Perceptron"
   ]
  },
  {
   "attachments": {},
   "cell_type": "markdown",
   "metadata": {},
   "source": [
    "In this notebook there are two different MLP architectures, one with 4 hidden layers, batch normalisation, dropout and ReLU activations; and a simpler one with just one hidden layer and a ReLU activation. \n",
    "\n",
    "Each of them take as input the MFCCs extrated features from the metadata and give as output the logits to be passed through a Softmax Activation to perform multiclass classification."
   ]
  },
  {
   "attachments": {},
   "cell_type": "markdown",
   "metadata": {},
   "source": [
    "## Import packages and allocate device"
   ]
  },
  {
   "cell_type": "code",
   "execution_count": 3,
   "metadata": {},
   "outputs": [],
   "source": [
    "import matplotlib.pyplot as plt\n",
    "import numpy as np\n",
    "import os\n",
    "from os.path import isfile\n",
    "import wandb\n",
    "from utils import utils\n",
    "import pandas as pd\n",
    "import torch\n",
    "import torch.nn as nn\n",
    "import torch.nn.functional as F\n",
    "from IPython import display\n",
    "import seaborn as sn\n",
    "from sklearn.metrics import confusion_matrix\n",
    "import sklearn as skl\n",
    "import sklearn.utils, sklearn.preprocessing, sklearn.decomposition\n"
   ]
  },
  {
   "cell_type": "code",
   "execution_count": 4,
   "metadata": {},
   "outputs": [],
   "source": [
    "plt.rcParams.update({\n",
    "    \"figure.facecolor\":  (0.0, 0.0, 0.0, 0.0) # make plot background transparent\n",
    "})"
   ]
  },
  {
   "attachments": {},
   "cell_type": "markdown",
   "metadata": {},
   "source": [
    "Allocate device"
   ]
  },
  {
   "cell_type": "code",
   "execution_count": 5,
   "metadata": {},
   "outputs": [
    {
     "name": "stdout",
     "output_type": "stream",
     "text": [
      "cpu\n"
     ]
    }
   ],
   "source": [
    "if torch.cuda.is_available():\n",
    "    device = \"cuda:0\"\n",
    "else:\n",
    "    device = \"cpu\"\n",
    "\n",
    "device = torch.device(device)\n",
    "print(device)"
   ]
  },
  {
   "attachments": {},
   "cell_type": "markdown",
   "metadata": {},
   "source": [
    "## Load data"
   ]
  },
  {
   "attachments": {},
   "cell_type": "markdown",
   "metadata": {},
   "source": [
    "We'll use the already extracted track features that are stored in the metadata. These come from MFCCs, which are popular features used in audio-related recognition tasks. As seen in ``Data_Exploration``, when we use these in our dataset we see that these are discriminant between different genres.<br><br>\n",
    "Part the cell below has been collected from [FMA: A Dataset For Music Analysis](https://github.com/mdeff/fma) by Michaël Defferrard, Kirell Benzi, Pierre Vandergheynst, Xavier Bresson, EPFL LTS2."
   ]
  },
  {
   "cell_type": "code",
   "execution_count": 6,
   "metadata": {},
   "outputs": [
    {
     "name": "stdout",
     "output_type": "stream",
     "text": [
      "6400 training examples, 800 validation examples\n",
      "140 features, 8 classes\n"
     ]
    },
    {
     "data": {
      "text/plain": [
       "array([[-0.15511561, -0.49674298, -0.16143007, ...,  0.91561944,\n",
       "         0.96924439, -0.54297993],\n",
       "       [ 0.06436392, -0.45056024,  0.06710116, ..., -0.75143045,\n",
       "        -0.7469227 , -0.84153531],\n",
       "       [-0.26499075, -0.40794633,  0.2436578 , ...,  0.02336005,\n",
       "        -0.45555942, -0.25568189],\n",
       "       ...,\n",
       "       [-0.31697505, -0.67543033, -0.4091746 , ..., -0.09201176,\n",
       "         0.25387012, -0.08211476],\n",
       "       [-0.28037183, -0.73526121,  2.26467868, ...,  1.08658067,\n",
       "         0.51588351,  1.88342153],\n",
       "       [ 0.05569623, -0.59821822, -0.58312677, ..., -0.61566561,\n",
       "        -0.77430828, -0.66246204]])"
      ]
     },
     "execution_count": 6,
     "metadata": {},
     "output_type": "execute_result"
    }
   ],
   "source": [
    "tracks = utils.load('data/fma_metadata/tracks.csv') # load tracks.csv\n",
    "features = utils.load('data/fma_metadata/features.csv') # load features.csv\n",
    "\n",
    "small = tracks['set', 'subset'] <= 'small' # filter small\n",
    "\n",
    "train = tracks['set', 'split'] == 'training' # filter training\n",
    "val = tracks['set', 'split'] == 'validation' # filter validation\n",
    "test = tracks['set', 'split'] == 'test' # filter test\n",
    "\n",
    "# get genre\n",
    "y_train = tracks.loc[small & train, ('track', 'genre_top')] \n",
    "y_val = tracks.loc[small & val, ('track', 'genre_top')] \n",
    "y_test = tracks.loc[small & test, ('track', 'genre_top')]\n",
    "\n",
    "# get mfcc features\n",
    "X_train = features.loc[small & train, 'mfcc'] \n",
    "X_val = features.loc[small & val, 'mfcc']\n",
    "X_test = features.loc[small & test, 'mfcc']\n",
    "\n",
    "print('{} training examples, {} validation examples'.format(y_train.size, y_val.size))\n",
    "print('{} features, {} classes'.format(X_train.shape[1], np.unique(y_train).size))\n",
    "\n",
    "# Shuffle traininig samples\n",
    "X_train, y_train = skl.utils.shuffle(X_train, y_train, random_state=42)\n",
    "\n",
    "# Standardize features by removing the mean and scaling to unit variance.\n",
    "scaler = skl.preprocessing.StandardScaler(copy=False)\n",
    "scaler.fit_transform(X_train)\n",
    "scaler.transform(X_val)"
   ]
  },
  {
   "cell_type": "code",
   "execution_count": 7,
   "metadata": {},
   "outputs": [
    {
     "name": "stdout",
     "output_type": "stream",
     "text": [
      "torch.Size([6400, 140]) torch.Size([800, 140])\n"
     ]
    }
   ],
   "source": [
    "X_train = torch.tensor(np.array(X_train))\n",
    "X_val = torch.tensor(np.array(X_val))\n",
    "X_test = torch.tensor(np.array(X_test))\n",
    "print(X_train.shape, X_val.shape)"
   ]
  },
  {
   "attachments": {},
   "cell_type": "markdown",
   "metadata": {},
   "source": [
    "We'll map the different genres to numbers, to retrieve them, we'll create dictionary and its reverse version."
   ]
  },
  {
   "cell_type": "code",
   "execution_count": 8,
   "metadata": {},
   "outputs": [
    {
     "name": "stdout",
     "output_type": "stream",
     "text": [
      "{0: 'Electronic', 1: 'Experimental', 2: 'Folk', 3: 'Hip-Hop', 4: 'Instrumental', 5: 'International', 6: 'Pop', 7: 'Rock'}\n"
     ]
    }
   ],
   "source": [
    "# Create a dictionary to map the genres to numbers corresponding to classes\n",
    "dict_genres = {'Electronic':0, 'Experimental':1, 'Folk':2, 'Hip-Hop':3, \n",
    "               'Instrumental':4,'International':5, 'Pop' :6, 'Rock': 7  }\n",
    "\n",
    "# Create a dictionary to map the class numbers to genres\n",
    "reverse_map = {v: k for k, v in dict_genres.items()}\n",
    "print(reverse_map)"
   ]
  },
  {
   "cell_type": "code",
   "execution_count": 9,
   "metadata": {},
   "outputs": [],
   "source": [
    "y_train = torch.tensor(np.array(y_train.map(dict_genres)))\n",
    "y_val = torch.tensor(np.array(y_val.map(dict_genres)))\n",
    "y_test = torch.tensor(np.array(y_test.map(dict_genres)))"
   ]
  },
  {
   "attachments": {},
   "cell_type": "markdown",
   "metadata": {},
   "source": [
    "## Data preparation"
   ]
  },
  {
   "attachments": {},
   "cell_type": "markdown",
   "metadata": {},
   "source": [
    "Create our dataset <code>MusicDataset</code>. It'll have the number of tracks as length and when called with an index it'll return the information about the track in that position, that is, an array with the MFCCs features and the number corresponding to the genre of the track."
   ]
  },
  {
   "cell_type": "code",
   "execution_count": 10,
   "metadata": {},
   "outputs": [],
   "source": [
    "class MusicDataset():\n",
    "    def __init__(self, x, y):\n",
    "        self.x = x # spectograms\n",
    "        self.y = y # genres\n",
    "        self.n = x.shape[0] # number of audio tracks\n",
    "        \n",
    "    def __getitem__(self, index):\n",
    "        return self.x[index], self.y[index] # return the spectogram and the genre of the audio track\n",
    "\n",
    "    def __len__(self):\n",
    "        return self.n # return the number of audio tracks"
   ]
  },
  {
   "attachments": {},
   "cell_type": "markdown",
   "metadata": {},
   "source": [
    "Create the train, test and validation sets and loaders"
   ]
  },
  {
   "cell_type": "code",
   "execution_count": 11,
   "metadata": {},
   "outputs": [],
   "source": [
    "batch_size =256 # number of audio files per batch\n",
    "num_classes = len(dict_genres) # number of genres\n",
    "\n",
    "train_set = MusicDataset(X_train, y_train)\n",
    "val_set = MusicDataset(X_val, y_val)\n",
    "test_set = MusicDataset(X_test, y_test)\n",
    "\n",
    "train_loader = torch.utils.data.DataLoader(train_set, batch_size= batch_size, shuffle=True)\n",
    "val_loader = torch.utils.data.DataLoader(val_set, batch_size= batch_size, shuffle=False)\n",
    "test_loader = torch.utils.data.DataLoader(test_set, batch_size= batch_size, shuffle=False)\n"
   ]
  },
  {
   "attachments": {},
   "cell_type": "markdown",
   "metadata": {},
   "source": [
    "To get a better undestranding of the data, print some information about the data we will use for the model."
   ]
  },
  {
   "cell_type": "code",
   "execution_count": 12,
   "metadata": {},
   "outputs": [
    {
     "name": "stdout",
     "output_type": "stream",
     "text": [
      "We have 256 tracks in the batch.\n",
      "\n",
      "There are 140 features of the first track of the batch.\n",
      "\n",
      "And this track is from genre 1.0, which is Experimental.\n"
     ]
    }
   ],
   "source": [
    "for batch in train_loader:\n",
    "    audio_batch, genres = batch\n",
    "\n",
    "    print(f'We have {audio_batch.shape[0]} tracks in the batch.\\n')\n",
    "    print(f\"There are {audio_batch[0].shape[0]} features of the first track of the batch.\\n\")\n",
    "\n",
    "    print(f'And this track is from genre {genres[0]}, which is {reverse_map[int(genres[0])]}.')\n",
    "    break"
   ]
  },
  {
   "attachments": {},
   "cell_type": "markdown",
   "metadata": {},
   "source": [
    "### MLP Model(s)"
   ]
  },
  {
   "attachments": {},
   "cell_type": "markdown",
   "metadata": {},
   "source": [
    "Implementation of two MLP models: ComplexMLP with 4 hidden layers and SimpleMLP with 1 hidden layer. These models will return logits which will be passed through a ``LogSoftmax`` to perform multi class classification"
   ]
  },
  {
   "cell_type": "code",
   "execution_count": 24,
   "metadata": {},
   "outputs": [],
   "source": [
    "class ComplexMLP(nn.Module):\n",
    "\n",
    "    def __init__(self, inDim, num_classes):\n",
    "\n",
    "        super().__init__()\n",
    "        \n",
    "        self.mlp_fw = nn.Sequential(\n",
    "                nn.Linear(inDim, 256),\n",
    "                nn.BatchNorm1d(256),\n",
    "                nn.Dropout(p=0.25),\n",
    "                nn.ReLU(),\n",
    "                nn.Linear(256, 512),\n",
    "                nn.BatchNorm1d(512),\n",
    "                nn.Dropout(p=0.25),\n",
    "                nn.ReLU(),\n",
    "                nn.Linear(512, 256),\n",
    "                nn.BatchNorm1d(256),\n",
    "                nn.Dropout(p=0.25),\n",
    "                nn.ReLU(),\n",
    "                nn.Linear(256, 64),\n",
    "                nn.BatchNorm1d(64),\n",
    "                nn.Dropout(p=0.25),\n",
    "                nn.ReLU(),\n",
    "                nn.Linear(64, num_classes),\n",
    "        )       #these numbers need to be adjusted\n",
    "\n",
    "    def forward(self, x):\n",
    "        out = self.mlp_fw(x)\n",
    "        return out"
   ]
  },
  {
   "cell_type": "code",
   "execution_count": 14,
   "metadata": {},
   "outputs": [],
   "source": [
    "class SimpleMLP(nn.Module):\n",
    "\n",
    "    def __init__(self, inDim, num_classes):\n",
    "\n",
    "        super().__init__()\n",
    "\n",
    "        self.mlp_fw = nn.Sequential(\n",
    "                nn.Linear(inDim, 64),\n",
    "                nn.ReLU(),\n",
    "                nn.Linear(64, num_classes),\n",
    "        )       \n",
    "\n",
    "    def forward(self, x):\n",
    "        out = self.mlp_fw(x)\n",
    "        return out"
   ]
  },
  {
   "attachments": {},
   "cell_type": "markdown",
   "metadata": {},
   "source": [
    "Initialise both models"
   ]
  },
  {
   "cell_type": "code",
   "execution_count": 15,
   "metadata": {},
   "outputs": [
    {
     "name": "stdout",
     "output_type": "stream",
     "text": [
      "SimpleMLP(\n",
      "  (mlp_fw): Sequential(\n",
      "    (0): Linear(in_features=140, out_features=64, bias=True)\n",
      "    (1): ReLU()\n",
      "    (2): Linear(in_features=64, out_features=8, bias=True)\n",
      "  )\n",
      ")\n"
     ]
    }
   ],
   "source": [
    "simple_model = SimpleMLP(inDim = 140, num_classes=8)\n",
    "print(simple_model)\n",
    "simple_model = simple_model.to(device, dtype=torch.float64)"
   ]
  },
  {
   "cell_type": "code",
   "execution_count": 27,
   "metadata": {},
   "outputs": [
    {
     "name": "stdout",
     "output_type": "stream",
     "text": [
      "ComplexMLP(\n",
      "  (mlp_fw): Sequential(\n",
      "    (0): Linear(in_features=140, out_features=256, bias=True)\n",
      "    (1): BatchNorm1d(256, eps=1e-05, momentum=0.1, affine=True, track_running_stats=True)\n",
      "    (2): Dropout(p=0.25, inplace=False)\n",
      "    (3): ReLU()\n",
      "    (4): Linear(in_features=256, out_features=512, bias=True)\n",
      "    (5): BatchNorm1d(512, eps=1e-05, momentum=0.1, affine=True, track_running_stats=True)\n",
      "    (6): Dropout(p=0.25, inplace=False)\n",
      "    (7): ReLU()\n",
      "    (8): Linear(in_features=512, out_features=256, bias=True)\n",
      "    (9): BatchNorm1d(256, eps=1e-05, momentum=0.1, affine=True, track_running_stats=True)\n",
      "    (10): Dropout(p=0.25, inplace=False)\n",
      "    (11): ReLU()\n",
      "    (12): Linear(in_features=256, out_features=64, bias=True)\n",
      "    (13): BatchNorm1d(64, eps=1e-05, momentum=0.1, affine=True, track_running_stats=True)\n",
      "    (14): Dropout(p=0.25, inplace=False)\n",
      "    (15): ReLU()\n",
      "    (16): Linear(in_features=64, out_features=8, bias=True)\n",
      "  )\n",
      ")\n"
     ]
    }
   ],
   "source": [
    "complex_model = ComplexMLP(inDim = 140, num_classes=8)\n",
    "print(complex_model)\n",
    "complex_model = complex_model.to(device, dtype=torch.float64)"
   ]
  },
  {
   "attachments": {},
   "cell_type": "markdown",
   "metadata": {},
   "source": [
    "## Training and Validation"
   ]
  },
  {
   "attachments": {},
   "cell_type": "markdown",
   "metadata": {},
   "source": [
    "Set up hyperparameters for both models and perform training and validation. We'll use ``CrossEntropyLoss`` as criterion, as it combines both ``LogSoftmax`` and ``NLLLoss``; and ``Adam`` as optimiser."
   ]
  },
  {
   "cell_type": "code",
   "execution_count": 17,
   "metadata": {},
   "outputs": [],
   "source": [
    "learning_rate = 0.0001\n",
    "lambda_l2 = 1e-4\n",
    "optimizer = torch.optim.Adam(simple_model.parameters(), lr=learning_rate, weight_decay=lambda_l2)\n",
    "\n",
    "criterion = torch.nn.CrossEntropyLoss()"
   ]
  },
  {
   "cell_type": "code",
   "execution_count": 18,
   "metadata": {},
   "outputs": [],
   "source": [
    "def train(epoch, criterion, model, optimizer, loader):\n",
    "    \n",
    "    total_loss = 0.0 #initialize the loss\n",
    "\n",
    "    model.train() #set the model to training mode\n",
    "\n",
    "    for batch_idx, (track, target) in enumerate(loader): #for each batch\n",
    "\n",
    "        optimizer.zero_grad() #zero the gradients\n",
    "\n",
    "        target = target.long() #squeeze the target and convert it to long\n",
    "       \n",
    "        target, track = target.to(device), track.to(device) #move the data to the device\n",
    "\n",
    "        output = model(track) #get the output of the model\n",
    "\n",
    "        loss = criterion(output, target) #calculate the loss\n",
    "        loss.backward() #backpropagate the loss\n",
    "        optimizer.step() #update the weights\n",
    "        \n",
    "         # print loss every N iterations\n",
    "        if batch_idx % 100 == 0:\n",
    "            \n",
    "            print('Train Epoch: {} [{}/{} ({:.0f}%)]\\tLoss: {:.6f}'.format(\n",
    "                epoch, batch_idx * len(track), len(loader.dataset),\n",
    "                100. * batch_idx / len(loader), loss.item()))\n",
    "\n",
    "        total_loss += loss.item()  #.item() is very important here? Why?\n",
    "\n",
    "\n",
    "    return total_loss / len(loader.dataset)\n",
    "\n",
    "# Validation function\n",
    "def validate(criterion, model, loader): \n",
    "\n",
    "    val_loss = 0 #initialize the loss\n",
    "    correct = 0\n",
    "    preds = []\n",
    "    model.eval() #set the model to evaluation mode\n",
    "\n",
    "    for track, target in loader: #for each batch\n",
    "\n",
    "        target = target.long() #squeeze the target and convert it to long\n",
    "        \n",
    "        target, track = target.to(device), track.to(device) #move the data to the device\n",
    "\n",
    "        output = model(track) #get the output of the model\n",
    "\n",
    "        loss = criterion(output, target) #calculate the loss\n",
    "\n",
    "        val_loss += loss.item() # sum up batch loss               \n",
    "\n",
    "        pred = output.data.max(1, keepdim=True)[1]\n",
    "        \n",
    "        correct += pred.eq(target.view_as(pred)).sum().item()\n",
    "\n",
    "    val_loss /= len(loader.dataset) #calculate the average loss\n",
    "\n",
    "    # print validation loss and accuracy\n",
    "    accuracy = 100. * correct / len(loader.dataset)\n",
    "    print('\\nTest set: Average loss: {:.4f}, Accuracy: {}/{} ({:.0f}%)\\n'.format(\n",
    "        val_loss, correct, len(loader.dataset),\n",
    "        accuracy))\n",
    "\n",
    "    return val_loss, accuracy"
   ]
  },
  {
   "attachments": {},
   "cell_type": "markdown",
   "metadata": {},
   "source": [
    "#### Simple Model"
   ]
  },
  {
   "cell_type": "code",
   "execution_count": 19,
   "metadata": {},
   "outputs": [
    {
     "data": {
      "image/png": "[encoded data removed]",
      "text/plain": [
       "<Figure size 640x480 with 1 Axes>"
      ]
     },
     "metadata": {
      "needs_background": "light"
     },
     "output_type": "display_data"
    },
    {
     "name": "stdout",
     "output_type": "stream",
     "text": [
      "Accuracy: 53.62%\n"
     ]
    }
   ],
   "source": [
    "losses = {\"train\": [], \"val\": []}\n",
    "\n",
    "n_epochs = 100\n",
    "\n",
    "for epoch in range(n_epochs): \n",
    "\n",
    "    train_loss = train(epoch, criterion, simple_model, optimizer, train_loader) #train the model\n",
    "    val_loss, accuracy = validate(criterion, simple_model, val_loader) #validate the model\n",
    "    losses[\"train\"].append(train_loss) #save the training loss\n",
    "    losses[\"val\"].append(val_loss) #save the validation loss\n",
    "    \n",
    "    display.clear_output(wait=True) \n",
    "\n",
    "    plt.plot(losses[\"train\"], label=\"training loss\") #plot the training loss\n",
    "    plt.plot(losses[\"val\"], label=\"validation loss\") #plot the validation loss\n",
    "\n",
    "    plt.legend()\n",
    "    plt.pause(0.000001)\n",
    "    plt.show()\n",
    "\n",
    "print(f'Accuracy: {accuracy:.2f}%') "
   ]
  },
  {
   "attachments": {},
   "cell_type": "markdown",
   "metadata": {},
   "source": [
    "Testing and Confusion Matrix"
   ]
  },
  {
   "cell_type": "code",
   "execution_count": 20,
   "metadata": {},
   "outputs": [
    {
     "data": {
      "image/png": "[encoded data removed]",
      "text/plain": [
       "<Figure size 1200x700 with 2 Axes>"
      ]
     },
     "metadata": {
      "needs_background": "light"
     },
     "output_type": "display_data"
    }
   ],
   "source": [
    "y_pred = []\n",
    "for track, target in test_loader: #for each batch\n",
    "        m = nn.LogSoftmax(dim=1)\n",
    "        target = target.long() #squeeze the target and convert it to long\n",
    "        \n",
    "        target, track = target.to(device), track.to(device) #move the data to the device\n",
    "\n",
    "        output = m(simple_model(track)) #get the output of the model      \n",
    "        pred = output.data.max(1, keepdim=True)[1]\n",
    "        y_pred.append(pred)\n",
    "\n",
    "y_pred = torch.cat(y_pred)\n",
    "y_pred = y_pred.view(-1)\n",
    "\n",
    "c_m = confusion_matrix(y_test, y_pred)\n",
    "\n",
    "df_cm = pd.DataFrame(c_m / np.sum(c_m, axis=1)[:, None], index = [i for i in dict_genres.keys()], columns = [i for i in dict_genres.keys()])\n",
    "\n",
    "plt.figure(figsize = (12,7))\n",
    "plt.title('')\n",
    "sn.heatmap(df_cm, annot=True)\n",
    "\n",
    "plt.show()"
   ]
  },
  {
   "attachments": {},
   "cell_type": "markdown",
   "metadata": {},
   "source": [
    "#### Complex Model"
   ]
  },
  {
   "cell_type": "code",
   "execution_count": 28,
   "metadata": {},
   "outputs": [],
   "source": [
    "learning_rate = 0.00005\n",
    "lambda_l2 = 1e-4\n",
    "optimizer = torch.optim.Adam(complex_model.parameters(), lr=learning_rate, weight_decay=lambda_l2)\n",
    "criterion = torch.nn.CrossEntropyLoss()"
   ]
  },
  {
   "cell_type": "code",
   "execution_count": 29,
   "metadata": {},
   "outputs": [
    {
     "data": {
      "image/png": "[encoded data removed]",
      "text/plain": [
       "<Figure size 640x480 with 1 Axes>"
      ]
     },
     "metadata": {
      "needs_background": "light"
     },
     "output_type": "display_data"
    },
    {
     "name": "stdout",
     "output_type": "stream",
     "text": [
      "Accuracy: 55.38%\n"
     ]
    }
   ],
   "source": [
    "losses = {\"train\": [], \"val\": []}\n",
    "n_epochs = 100\n",
    "for epoch in range(n_epochs): \n",
    "\n",
    "    train_loss = train(epoch, criterion, complex_model, optimizer, train_loader) #train the model\n",
    "    val_loss, accuracy = validate(criterion, complex_model, val_loader) #validate the model\n",
    "    losses[\"train\"].append(train_loss) #save the training loss\n",
    "    losses[\"val\"].append(val_loss) #save the validation loss\n",
    "    \n",
    "    display.clear_output(wait=True) \n",
    "\n",
    "    plt.plot(losses[\"train\"], label=\"training loss\") #plot the training loss\n",
    "    plt.plot(losses[\"val\"], label=\"validation loss\") #plot the validation loss\n",
    "\n",
    "    plt.legend()\n",
    "    plt.pause(0.000001)\n",
    "    plt.show()\n",
    "\n",
    "print(f'Accuracy: {accuracy:.2f}%') "
   ]
  },
  {
   "attachments": {},
   "cell_type": "markdown",
   "metadata": {},
   "source": [
    "Testing and Confusion Matrix"
   ]
  },
  {
   "cell_type": "code",
   "execution_count": 30,
   "metadata": {},
   "outputs": [
    {
     "data": {
      "image/png": "[encoded data removed]",
      "text/plain": [
       "<Figure size 1200x700 with 2 Axes>"
      ]
     },
     "metadata": {
      "needs_background": "light"
     },
     "output_type": "display_data"
    }
   ],
   "source": [
    "y_pred = []\n",
    "for track, target in test_loader: #for each batch\n",
    "        m = nn.LogSoftmax(dim=1)\n",
    "        target = target.long() #squeeze the target and convert it to long\n",
    "        \n",
    "        target, track = target.to(device), track.to(device) #move the data to the device\n",
    "\n",
    "        output = m(complex_model(track)) #get the output of the model      \n",
    "        pred = output.data.max(1, keepdim=True)[1]\n",
    "        y_pred.append(pred)\n",
    "\n",
    "y_pred = torch.cat(y_pred)\n",
    "y_pred = y_pred.view(-1)\n",
    "\n",
    "c_m = confusion_matrix(y_test, y_pred)\n",
    "\n",
    "df_cm = pd.DataFrame(c_m / np.sum(c_m, axis=1)[:, None], index = [i for i in dict_genres.keys()], columns = [i for i in dict_genres.keys()])\n",
    "\n",
    "plt.figure(figsize = (12,7))\n",
    "plt.title('')\n",
    "sn.heatmap(df_cm, annot=True)\n",
    "\n",
    "plt.show()"
   ]
  },
  {
   "attachments": {},
   "cell_type": "markdown",
   "metadata": {},
   "source": [
    "## Conclusion"
   ]
  },
  {
   "attachments": {},
   "cell_type": "markdown",
   "metadata": {},
   "source": [
    "As seen in the plots and results above, despite being slightly better than random guess, neither of them performs well on this task, with an accuracy around 52-55% percent in both models, being the complex model the one with highest accuracy among them.\n",
    "\n",
    "Based on that the training curves seemed to be improving while the validation curve was static or increasing in some cases after a certain number of epochs, our conclusions are that the models overfit, learning the training set, which translates in poor validation performance. \n",
    "\n",
    "From different available solutions to overfitting, we could simplify the model, which we have done with SimpleMLP, or obtain or generate more data.\n",
    "\n",
    "However, when taking a look at the confusions matrix we can observe that the Simple Model has learned to only differentiate between Instrumental, Experimental, Pop and in few cases, Folk; it only performs well on the singular case of pop songs. (this can vary depending on the run).\n",
    "\n",
    "On the other hand, the Complex Model, which by looking only at accuracy seemed to perform slightly better than the Simple one, shows that it only has learned to classify all tasks as Experimental, which reinforces the believe that using a simpler model for this task with this given data is a better approach."
   ]
  }
 ],
 "metadata": {
  "kernelspec": {
   "display_name": "musicrecognition",
   "language": "python",
   "name": "python3"
  },
  "language_info": {
   "codemirror_mode": {
    "name": "ipython",
    "version": 3
   },
   "file_extension": ".py",
   "mimetype": "text/x-python",
   "name": "python",
   "nbconvert_exporter": "python",
   "pygments_lexer": "ipython3",
   "version": "3.10.11"
  }
 },
 "nbformat": 4,
 "nbformat_minor": 2
}
